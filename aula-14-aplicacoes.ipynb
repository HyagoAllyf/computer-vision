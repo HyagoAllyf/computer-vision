{
 "cells": [
  {
   "cell_type": "markdown",
   "metadata": {},
   "source": [
    "# Aplicações da Visão Computacional"
   ]
  },
  {
   "cell_type": "markdown",
   "metadata": {},
   "source": [
    "## Reconhecimento de Objetos\n",
    "\n",
    "Uma das abordagens para reconhecer objetos em imagens é extrair a quantidade de vértices que ele possui. Esta técnica pode ser aplicada com o intuito de reconhecer figuras geométricas em imagens.\n"
   ]
  },
  {
   "cell_type": "code",
   "execution_count": 2,
   "metadata": {},
   "outputs": [
    {
     "name": "stdout",
     "output_type": "stream",
     "text": [
      "quadrado\n",
      "circulo\n",
      "quadrado\n",
      "circulo\n",
      "quadrado\n",
      "circulo\n"
     ]
    },
    {
     "ename": "error",
     "evalue": "OpenCV(4.10.0) D:\\a\\opencv-python\\opencv-python\\opencv\\modules\\imgproc\\src\\color.cpp:196: error: (-215:Assertion failed) !_src.empty() in function 'cv::cvtColor'\n",
     "output_type": "error",
     "traceback": [
      "\u001b[1;31m---------------------------------------------------------------------------\u001b[0m",
      "\u001b[1;31merror\u001b[0m                                     Traceback (most recent call last)",
      "Cell \u001b[1;32mIn[2], line 12\u001b[0m\n\u001b[0;32m      9\u001b[0m ret, frameRGB \u001b[38;5;241m=\u001b[39m video\u001b[38;5;241m.\u001b[39mread()\n\u001b[0;32m     11\u001b[0m \u001b[38;5;66;03m# Converte o quadro para escala de cinza\u001b[39;00m\n\u001b[1;32m---> 12\u001b[0m frameCinza \u001b[38;5;241m=\u001b[39m \u001b[43mcv2\u001b[49m\u001b[38;5;241;43m.\u001b[39;49m\u001b[43mcvtColor\u001b[49m\u001b[43m(\u001b[49m\u001b[43mframeRGB\u001b[49m\u001b[43m,\u001b[49m\u001b[43m \u001b[49m\u001b[43mcv2\u001b[49m\u001b[38;5;241;43m.\u001b[39;49m\u001b[43mCOLOR_RGB2GRAY\u001b[49m\u001b[43m)\u001b[49m\n\u001b[0;32m     13\u001b[0m tipo \u001b[38;5;241m=\u001b[39m cv2\u001b[38;5;241m.\u001b[39mTHRESH_BINARY\n\u001b[0;32m     14\u001b[0m \u001b[38;5;66;03m# Binariza a imagem\u001b[39;00m\n",
      "\u001b[1;31merror\u001b[0m: OpenCV(4.10.0) D:\\a\\opencv-python\\opencv-python\\opencv\\modules\\imgproc\\src\\color.cpp:196: error: (-215:Assertion failed) !_src.empty() in function 'cv::cvtColor'\n"
     ]
    },
    {
     "ename": "",
     "evalue": "",
     "output_type": "error",
     "traceback": [
      "\u001b[1;31mThe Kernel crashed while executing code in the current cell or a previous cell. \n",
      "\u001b[1;31mPlease review the code in the cell(s) to identify a possible cause of the failure. \n",
      "\u001b[1;31mClick <a href='https://aka.ms/vscodeJupyterKernelCrash'>here</a> for more info. \n",
      "\u001b[1;31mView Jupyter <a href='command:jupyter.viewOutput'>log</a> for further details."
     ]
    }
   ],
   "source": [
    "import cv2\n",
    "import numpy as np\n",
    "\n",
    "indiceFrame = totalVerticesAnterior = 0\n",
    "valoresMedidos = np.zeros(7)\n",
    "video = cv2.VideoCapture('C:/Users/hyago/documentos/Meusprojetos/python/computacao_visual/computer-vision/formas-geometricas-480.mov')\n",
    "\n",
    "while True:\n",
    "    ret, frameRGB = video.read()\n",
    "    \n",
    "    # Converte o quadro para escala de cinza\n",
    "    frameCinza = cv2.cvtColor(frameRGB, cv2.COLOR_RGB2GRAY)\n",
    "    tipo = cv2.THRESH_BINARY\n",
    "    # Binariza a imagem\n",
    "    ret, frameBinarizado = cv2.threshold(frameCinza, 127, 255, tipo)\n",
    "\n",
    "    # Calcula o valor médio atual\n",
    "    valorMedioAtual = int(cv2.mean(frameBinarizado)[0])\n",
    "\n",
    "    if valorMedioAtual != 0:\n",
    "        if valorMedioAtual == int(cv2.mean(valoresMedidos)[0]):\n",
    "            # Detecta contornos\n",
    "            contornos, hierarquia = cv2.findContours(\n",
    "                frameBinarizado, cv2.RETR_TREE, cv2.CHAIN_APPROX_SIMPLE\n",
    "            )\n",
    "            objeto = contornos[0]\n",
    "            perimetro = cv2.arcLength(objeto, True)\n",
    "            poligono = cv2.approxPolyDP(objeto, 0.03*perimetro, True)\n",
    "            totalVertices = len(poligono)\n",
    "\n",
    "            if totalVertices != totalVerticesAnterior:\n",
    "                totalVerticesAnterior = totalVertices\n",
    "                if totalVertices ==2: print('triangulo')\n",
    "                elif totalVertices == 4: print('quadrado')\n",
    "                elif totalVertices > 7: print('circulo')\n",
    "        \n",
    "        # Armazena o valor médio atual\n",
    "        valoresMedidos[indiceFrame] = valorMedioAtual\n",
    "        if indiceFrame == 6:\n",
    "            indiceFrame = -1\n",
    "        indiceFrame += 1\n",
    "        \n",
    "    # Mostra o vídeo\n",
    "    cv2.imshow('video', frameRGB)\n",
    "    if cv2.waitKey(1) & 0xFF == ord('q'):\n",
    "        break\n",
    "# Libera o vídeo e destrói as janelas\n",
    "video.release()\n",
    "cv2.destroyAllWindows()\n",
    "\n"
   ]
  }
 ],
 "metadata": {
  "kernelspec": {
   "display_name": "Python 3",
   "language": "python",
   "name": "python3"
  },
  "language_info": {
   "codemirror_mode": {
    "name": "ipython",
    "version": 3
   },
   "file_extension": ".py",
   "mimetype": "text/x-python",
   "name": "python",
   "nbconvert_exporter": "python",
   "pygments_lexer": "ipython3",
   "version": "3.12.2"
  }
 },
 "nbformat": 4,
 "nbformat_minor": 2
}
